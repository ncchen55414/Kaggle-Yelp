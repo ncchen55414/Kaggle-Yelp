{
 "cells": [
  {
   "cell_type": "markdown",
   "metadata": {},
   "source": [
    "# PART 2: Compute a feature vector for each buisness (Less memory intensive, but slower version)"
   ]
  },
  {
   "cell_type": "markdown",
   "metadata": {},
   "source": [
    "Summary:<br>\n",
    "\n",
    "     This Kaggle competition is a Multiple instance learning (MIL) problem:      \n",
    "     Each training example (a business) has multiple instances (photos).          \n",
    "     We'll use the SimpleMI algorithm briefly mentioned in \n",
    "     https://en.wikipedia.org/wiki/Multiple_instance_learning\n",
    "     \n",
    "     In part 1, we've obtained a 4096-dim feature vector for each image.\n",
    "     In part 2, for each business, we will compute the mean feature vector among images that belong to it.\n",
    "     In this way, each business is correspondent to a single feature, i.e., the mean feature vector.\n",
    "\n",
    "Note:<br>\n",
    "\n",
    "     This is the same as the original Step2_BusinessFeatureFc7.ipynb with a slight\n",
    "     modification to ensure it will run without crashing on machines with memory \n",
    "     constraints.  This is done by avoiding copying of f['feature'] into a numpy array\n",
    "     and instead reading feature values from the H5 file as needed.  As a result,\n",
    "     this code will run slower than the original, but will ensure one doesn't get a\n",
    "     memory-related error if their machine lacks enough memory to run the original\n",
    "     script."
   ]
  },
  {
   "cell_type": "markdown",
   "metadata": {},
   "source": [
    "## Process buisness in the training set"
   ]
  },
  {
   "cell_type": "code",
   "execution_count": 6,
   "metadata": {},
   "outputs": [
    {
     "name": "stdout",
     "output_type": "stream",
     "text": [
      "Number of business:  1996 (4 business with missing labels are dropped)\n"
     ]
    }
   ],
   "source": [
    "data_root = '/Users/ncchen/Kaggle-Yelp/input/'\n",
    "data_root = '/mnt/D264B07564B05E43/Kaggle/YelpPhoto/code/input/'\n",
    "import numpy as np\n",
    "import pandas as pd \n",
    "import h5py\n",
    "import time\n",
    "\n",
    "train_photo_to_biz = pd.read_csv(data_root+'train_photo_to_biz_ids.csv')\n",
    "train_labels = pd.read_csv(data_root+'train.csv').dropna()\n",
    "train_labels['labels'] = train_labels['labels'].apply(lambda x: tuple(sorted(int(t) for t in x.split())))\n",
    "train_labels.set_index('business_id', inplace=True)\n",
    "biz_ids = train_labels.index.unique()\n",
    "print \"Number of business: \", len(biz_ids) ,   \"(4 business with missing labels are dropped)\"\n",
    "\n",
    "## Load image features\n",
    "f = h5py.File(data_root+'train_image_fc7features.h5','r')\n",
    "train_image_features = f['feature']\n",
    "\n",
    "\n",
    "t= time.time()\n",
    "## For each business, compute a feature vector \n",
    "df = pd.DataFrame(columns=['business','label','feature vector'])\n",
    "index = 0\n",
    "for biz in biz_ids:  \n",
    "    \n",
    "    label = train_labels.loc[biz]['labels']\n",
    "    image_index = train_photo_to_biz[train_photo_to_biz['business_id']==biz].index.tolist()\n",
    "    folder = data_root+'train_photo_folders/'  \n",
    "    \n",
    "    features = train_image_features[image_index]\n",
    "    mean_feature =list(np.mean(features,axis=0))\n",
    "\n",
    "    df.loc[index] = [biz, label, mean_feature]\n",
    "    index+=1\n",
    "    if index%1000==0:\n",
    "        print \"Buisness processed: \", index, \"Time passed: \", \"{0:.1f}\".format(time.time()-t), \"sec\"\n",
    "        break\n",
    "\n",
    "with open(data_root+\"train_biz_fc7features.csv\",'w') as f:  \n",
    "    df.to_csv(f, index=False)\n",
    "\n",
    "f.close()"
   ]
  },
  {
   "cell_type": "code",
   "execution_count": 2,
   "metadata": {},
   "outputs": [
    {
     "name": "stdout",
     "output_type": "stream",
     "text": [
      "(1996, 3)\n"
     ]
    },
    {
     "data": {
      "text/html": [
       "<div>\n",
       "<table border=\"1\" class=\"dataframe\">\n",
       "  <thead>\n",
       "    <tr style=\"text-align: right;\">\n",
       "      <th></th>\n",
       "      <th>business</th>\n",
       "      <th>label</th>\n",
       "      <th>feature vector</th>\n",
       "    </tr>\n",
       "  </thead>\n",
       "  <tbody>\n",
       "    <tr>\n",
       "      <th>0</th>\n",
       "      <td>1000</td>\n",
       "      <td>(1, 2, 3, 4, 5, 6, 7)</td>\n",
       "      <td>[0.19977248, 0.43287012, 0.22732441, 0.3551769...</td>\n",
       "    </tr>\n",
       "    <tr>\n",
       "      <th>1</th>\n",
       "      <td>1001</td>\n",
       "      <td>(0, 1, 6, 8)</td>\n",
       "      <td>[0.0, 0.58892941, 0.53906041, 0.17221935, 0.01...</td>\n",
       "    </tr>\n",
       "    <tr>\n",
       "      <th>2</th>\n",
       "      <td>100</td>\n",
       "      <td>(1, 2, 4, 5, 6, 7)</td>\n",
       "      <td>[0.11154944, 0.034822457, 0.1202566, 0.5201095...</td>\n",
       "    </tr>\n",
       "    <tr>\n",
       "      <th>3</th>\n",
       "      <td>1006</td>\n",
       "      <td>(1, 2, 4, 5, 6)</td>\n",
       "      <td>[0.078059368, 0.054452561, 0.056381688, 0.6942...</td>\n",
       "    </tr>\n",
       "    <tr>\n",
       "      <th>4</th>\n",
       "      <td>1010</td>\n",
       "      <td>(0, 6, 8)</td>\n",
       "      <td>[0.39656404, 0.279632, 0.0, 0.1720508, 0.36192...</td>\n",
       "    </tr>\n",
       "  </tbody>\n",
       "</table>\n",
       "</div>"
      ]
     },
     "output_type": "execute_result",
     "metadata": {}
    }
   ],
   "source": [
    "# Check file content\n",
    "train_business = pd.read_csv(data_root+'train_biz_fc7features.csv')\n",
    "print train_business.shape\n",
    "train_business[0:5]"
   ]
  },
  {
   "cell_type": "markdown",
   "metadata": {},
   "source": [
    "## Process business in the test set"
   ]
  },
  {
   "cell_type": "code",
   "execution_count": 5,
   "metadata": {},
   "outputs": [],
   "source": [
    "data_root = '/Users/ncchen/Kaggle-Yelp/input/'\n",
    "\n",
    "import numpy as np\n",
    "import pandas as pd \n",
    "import h5py\n",
    "import time"
   ]
  },
  {
   "cell_type": "code",
   "execution_count": 6,
   "metadata": {},
   "outputs": [
    {
     "name": "stdout",
     "output_type": "stream",
     "text": [
      "Number of business:  10000\n",
      "Buisness processed:  1000 Time passed:  188.1 sec\n",
      "Buisness processed:  2000 Time passed:  470.2 sec\n",
      "Buisness processed:  3000 Time passed:  785.6 sec\n",
      "Buisness processed:  4000 Time passed:  1239.6 sec\n",
      "Buisness processed:  5000 Time passed:  1676.3 sec\n",
      "Buisness processed:  6000 Time passed:  2081.7 sec\n",
      "Buisness processed:  7000 Time passed:  2503.9 sec\n",
      "Buisness processed:  8000 Time passed:  2843.3 sec\n",
      "Buisness processed:  9000 Time passed:  3180.2 sec\n",
      "Buisness processed:  10000 Time passed:  3526.0 sec\n"
     ]
    }
   ],
   "source": [
    "test_photo_to_biz = pd.read_csv(data_root+'test_photo_to_biz.csv')\n",
    "biz_ids = test_photo_to_biz['business_id'].unique()\n",
    "\n",
    "## Load image features\n",
    "f = h5py.File(data_root+'test_image_fc7features.h5','r')\n",
    "image_filenames = list(np.copy(f['photo_id']))\n",
    "image_filenames = [name.split('/')[-1][:-4] for name in image_filenames]  #remove the full path and the str \".jpg\"\n",
    "image_features = f['feature']\n",
    "print \"Number of business: \", len(biz_ids)\n",
    "\n",
    "df = pd.DataFrame(columns=['business','feature vector'])\n",
    "index = 0\n",
    "t = time.time()\n",
    "\n",
    "for biz in biz_ids:     \n",
    "    \n",
    "    image_ids = test_photo_to_biz[test_photo_to_biz['business_id']==biz]['photo_id'].tolist()  \n",
    "    image_index = [image_filenames.index(str(x)) for x in image_ids]\n",
    "     \n",
    "    folder = data_root+'test_photo_folders/'            \n",
    "    features = image_features[image_index]\n",
    "    mean_feature =list(np.mean(features,axis=0))\n",
    "\n",
    "    df.loc[index] = [biz, mean_feature]\n",
    "    index+=1\n",
    "    if index%1000==0:\n",
    "        print \"Buisness processed: \", index, \"Time passed: \", \"{0:.1f}\".format(time.time()-t), \"sec\"\n",
    "\n",
    "with open(data_root+\"test_biz_fc7features.csv\",'w') as f:  \n",
    "    df.to_csv(f, index=False)\n",
    "\n",
    "f.close()"
   ]
  },
  {
   "cell_type": "code",
   "execution_count": 7,
   "metadata": {},
   "outputs": [
    {
     "name": "stdout",
     "output_type": "stream",
     "text": [
      "(10000, 2)\n"
     ]
    },
    {
     "data": {
      "text/html": [
       "<div>\n",
       "<table border=\"1\" class=\"dataframe\">\n",
       "  <thead>\n",
       "    <tr style=\"text-align: right;\">\n",
       "      <th></th>\n",
       "      <th>business</th>\n",
       "      <th>feature vector</th>\n",
       "    </tr>\n",
       "  </thead>\n",
       "  <tbody>\n",
       "    <tr>\n",
       "      <th>0</th>\n",
       "      <td>003sg</td>\n",
       "      <td>[0.19304858, 0.25836363, 0.19439963, 0.4623323...</td>\n",
       "    </tr>\n",
       "    <tr>\n",
       "      <th>1</th>\n",
       "      <td>00er5</td>\n",
       "      <td>[0.19397432, 0.25547543, 0.18416314, 0.3357939...</td>\n",
       "    </tr>\n",
       "    <tr>\n",
       "      <th>2</th>\n",
       "      <td>00kad</td>\n",
       "      <td>[0.12131316, 0.12655321, 0.076526381, 0.383446...</td>\n",
       "    </tr>\n",
       "    <tr>\n",
       "      <th>3</th>\n",
       "      <td>00mc6</td>\n",
       "      <td>[0.28428948, 0.11111, 0.4785029, 0.44944447, 0...</td>\n",
       "    </tr>\n",
       "    <tr>\n",
       "      <th>4</th>\n",
       "      <td>00q7x</td>\n",
       "      <td>[0.23811676, 0.33040056, 0.25543597, 0.3258069...</td>\n",
       "    </tr>\n",
       "  </tbody>\n",
       "</table>\n",
       "</div>"
      ]
     },
     "output_type": "execute_result",
     "metadata": {}
    }
   ],
   "source": [
    "# Check file content\n",
    "test_business = pd.read_csv(data_root+'test_biz_fc7features.csv')\n",
    "print test_business.shape\n",
    "test_business[0:5]"
   ]
  },
  {
   "cell_type": "code",
   "execution_count": null,
   "metadata": {},
   "outputs": [],
   "source": [
    ""
   ]
  }
 ],
 "metadata": {
  "kernelspec": {
   "display_name": "Python 2",
   "language": "python",
   "name": "python2"
  }
 },
 "nbformat": 4,
 "nbformat_minor": 0
}